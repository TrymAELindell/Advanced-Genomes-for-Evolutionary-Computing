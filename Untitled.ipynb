{
 "cells": [
  {
   "cell_type": "code",
   "execution_count": 1,
   "id": "0a14ff54",
   "metadata": {},
   "outputs": [],
   "source": [
    "from HOX_evolution import *\n",
    "import reservoirpy as rpy\n",
    "from reservoirpy.nodes import Reservoir, Ridge\n",
    "from reservoirpy.datasets import logistic_map\n",
    "import networkx as nx\n",
    "import copy\n",
    "import scipy \n",
    "import matplotlib.pyplot as plt\n",
    "#from treelib import Node, Tree\n",
    "from dask.distributed import Client\n"
   ]
  },
  {
   "cell_type": "code",
   "execution_count": 2,
   "id": "3303c464",
   "metadata": {},
   "outputs": [],
   "source": [
    "def test_genome_as_reservoir(adjacency_matrix, data, prediction_length, train_to, test_to):\n",
    "    weights = np.random.normal(0,1, size = adjacency_matrix.shape)\n",
    "    weights = weights / (weights*adjacency_matrix.shape[0])\n",
    "\n",
    "    weights *= adjacency_matrix\n",
    "\n",
    "    reservoir = Reservoir(W = weights)\n",
    "    readout = Ridge(ridge = 1e-7)\n",
    "    model = reservoir >> readout \n",
    "\n",
    "\n",
    "    training_data_input = data[:train_to,:]\n",
    "    training_data_desired_output = data[prediction_length:train_to + prediction_length, : ]\n",
    "\n",
    "    test_data_input = data[train_to:test_to]\n",
    "    test_data_desired_output = data[train_to + prediction_length: test_to + prediction_length]\n",
    "\n",
    "    model.fit(training_data_input, training_data_desired_output)\n",
    "\n",
    "    prediction = model.run(test_data_input)\n",
    "\n",
    "    performance = np.linalg.norm(prediction - test_data_desired_output, ord = 2)\n",
    "\n",
    "    return performance\n",
    "\n"
   ]
  },
  {
   "cell_type": "code",
   "execution_count": 4,
   "id": "a7def24b",
   "metadata": {},
   "outputs": [],
   "source": [
    "\n",
    "data = logistic_map(2000)\n",
    "#data  = data[:,np.newaxis]\n",
    "data = 2 * (data - data.min()) / (data.max() - data.min()) - 1\n",
    "\n",
    "train_to = 200\n",
    "prediction_length = 2\n",
    "test_to = 400\n",
    "\n",
    "am = np.random.uniform(-1,1, size = (10,10))"
   ]
  },
  {
   "cell_type": "code",
   "execution_count": 8,
   "id": "f55d034a",
   "metadata": {},
   "outputs": [
    {
     "name": "stdout",
     "output_type": "stream",
     "text": [
      "[9.317500947488032, 9.317500947488032, 9.317500947488032, 9.317500947488032, 9.317500947488032, 9.317500947488032, 9.317500947488032, 9.317500947488032, 9.317500947488032, 9.317500947488032, 9.317500947488032, 9.317500947488032, 9.317500947488032, 9.317500947488032, 9.317500947488032, 9.317500947488032, 9.317500947488032, 9.317500947488032, 9.317500947488032, 9.317500947488032, 9.317500947488032, 9.317500947488032, 9.317500947488032, 9.317500947488032, 9.317500947488032, 9.317500947488032, 9.317500947488032, 9.317500947488032, 9.317500947488032, 9.317500947488032, 9.317500947488032, 9.317500947488032, 9.317500947488032, 9.317500947488032, 9.317500947488032, 9.317500947488032, 9.317500947488032, 9.317500947488032, 9.317500947488032, 9.317500947488032, 9.317500947488032, 9.317500947488032, 9.317500947488032, 9.317500947488032, 9.317500947488032, 9.317500947488032, 9.317500947488032, 9.317500947488032, 9.317500947488032, 9.317500947488032, 9.317500947488032, 9.317500947488032, 9.317500947488032, 9.317500947488032, 9.317500947488032, 9.317500947488032, 9.317500947488032, 9.317500947488032, 9.317500947488032, 9.317500947488032, 9.317500947488032, 9.317500947488032, 9.317500947488032, 9.317500947488032]\n"
     ]
    }
   ],
   "source": [
    "\n",
    "with Client(n_workers = 64) as client:\n",
    "    futures = []\n",
    "    for i in range(64):\n",
    "        \n",
    "        future = client.submit(test_genome_as_reservoir, am, data, prediction_length, train_to, test_to)\n",
    "        futures.append(future)\n",
    "    results = client.gather(futures)\n",
    "print(results)"
   ]
  }
 ],
 "metadata": {
  "kernelspec": {
   "display_name": "Python 3",
   "language": "python",
   "name": "python3"
  },
  "language_info": {
   "codemirror_mode": {
    "name": "ipython",
    "version": 3
   },
   "file_extension": ".py",
   "mimetype": "text/x-python",
   "name": "python",
   "nbconvert_exporter": "python",
   "pygments_lexer": "ipython3",
   "version": "3.8.8"
  }
 },
 "nbformat": 4,
 "nbformat_minor": 5
}
